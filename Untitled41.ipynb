{
  "nbformat": 4,
  "nbformat_minor": 0,
  "metadata": {
    "colab": {
      "provenance": [],
      "authorship_tag": "ABX9TyOvFUU36BJcvlnuM/gqQ1Uc",
      "include_colab_link": true
    },
    "kernelspec": {
      "name": "python3",
      "display_name": "Python 3"
    },
    "language_info": {
      "name": "python"
    }
  },
  "cells": [
    {
      "cell_type": "markdown",
      "metadata": {
        "id": "view-in-github",
        "colab_type": "text"
      },
      "source": [
        "<a href=\"https://colab.research.google.com/github/Aodai3120004/flutter05/blob/master/Untitled41.ipynb\" target=\"_parent\"><img src=\"https://colab.research.google.com/assets/colab-badge.svg\" alt=\"Open In Colab\"/></a>"
      ]
    },
    {
      "cell_type": "code",
      "execution_count": 1,
      "metadata": {
        "colab": {
          "base_uri": "https://localhost:8080/"
        },
        "id": "ZCnf4nUUKCNC",
        "outputId": "f31101d6-dbe2-4a7f-c423-faf751c28dd0"
      },
      "outputs": [
        {
          "output_type": "stream",
          "name": "stdout",
          "text": [
            "分割数＝400: 3.1415916119231238\n",
            "S-Sn＝： 9.980768762574144e-07\n"
          ]
        }
      ],
      "source": [
        "# coding: utf-8\n",
        "# Your code here!\n",
        "\n",
        "def f(x):\n",
        "    y = 4/(1+x**2)\n",
        "    return y\n",
        "\n",
        "a=0\n",
        "b=1\n",
        "\n",
        "Sn_data=[]\n",
        "for n in range(1,1000):\n",
        "    Sn=0\n",
        "    h=(b-a)/n\n",
        "    for yn in range(n):\n",
        "        Sn+=h/2*(f(yn*h)+f((yn+1)*h))\n",
        "    if 3.14159261-Sn <= 0.000001:\n",
        "        print(\"分割数＝\"+str(n)+\":\",Sn)\n",
        "        print(\"S-Sn＝：\",3.14159261-Sn)\n",
        "        break"
      ]
    }
  ]
}